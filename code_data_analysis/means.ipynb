{
 "cells": [
  {
   "cell_type": "code",
   "execution_count": 1,
   "metadata": {},
   "outputs": [],
   "source": [
    "import pandas as pd\n",
    "import matplotlib.pyplot as plt"
   ]
  },
  {
   "cell_type": "code",
   "execution_count": 2,
   "metadata": {},
   "outputs": [
    {
     "data": {
      "text/html": [
       "<div>\n",
       "<style scoped>\n",
       "    .dataframe tbody tr th:only-of-type {\n",
       "        vertical-align: middle;\n",
       "    }\n",
       "\n",
       "    .dataframe tbody tr th {\n",
       "        vertical-align: top;\n",
       "    }\n",
       "\n",
       "    .dataframe thead th {\n",
       "        text-align: right;\n",
       "    }\n",
       "</style>\n",
       "<table border=\"1\" class=\"dataframe\">\n",
       "  <thead>\n",
       "    <tr style=\"text-align: right;\">\n",
       "      <th></th>\n",
       "      <th>id</th>\n",
       "      <th>price</th>\n",
       "      <th>crime rate</th>\n",
       "      <th>pati</th>\n",
       "      <th>group</th>\n",
       "    </tr>\n",
       "  </thead>\n",
       "  <tbody>\n",
       "    <tr>\n",
       "      <th>0</th>\n",
       "      <td>E02000001</td>\n",
       "      <td>498.250</td>\n",
       "      <td>0.034836</td>\n",
       "      <td>11.767474</td>\n",
       "      <td>0</td>\n",
       "    </tr>\n",
       "    <tr>\n",
       "      <th>1</th>\n",
       "      <td>E02000002</td>\n",
       "      <td>337.500</td>\n",
       "      <td>0.011596</td>\n",
       "      <td>3.675595</td>\n",
       "      <td>5</td>\n",
       "    </tr>\n",
       "    <tr>\n",
       "      <th>2</th>\n",
       "      <td>E02000003</td>\n",
       "      <td>319.375</td>\n",
       "      <td>0.009579</td>\n",
       "      <td>3.675595</td>\n",
       "      <td>5</td>\n",
       "    </tr>\n",
       "    <tr>\n",
       "      <th>3</th>\n",
       "      <td>E02000004</td>\n",
       "      <td>331.250</td>\n",
       "      <td>0.014535</td>\n",
       "      <td>3.600575</td>\n",
       "      <td>5</td>\n",
       "    </tr>\n",
       "    <tr>\n",
       "      <th>4</th>\n",
       "      <td>E02000005</td>\n",
       "      <td>337.500</td>\n",
       "      <td>0.008547</td>\n",
       "      <td>8.159091</td>\n",
       "      <td>2</td>\n",
       "    </tr>\n",
       "    <tr>\n",
       "      <th>...</th>\n",
       "      <td>...</td>\n",
       "      <td>...</td>\n",
       "      <td>...</td>\n",
       "      <td>...</td>\n",
       "      <td>...</td>\n",
       "    </tr>\n",
       "    <tr>\n",
       "      <th>978</th>\n",
       "      <td>E02000978</td>\n",
       "      <td>370.520</td>\n",
       "      <td>0.007915</td>\n",
       "      <td>27.150418</td>\n",
       "      <td>1</td>\n",
       "    </tr>\n",
       "    <tr>\n",
       "      <th>979</th>\n",
       "      <td>E02000979</td>\n",
       "      <td>370.980</td>\n",
       "      <td>0.008307</td>\n",
       "      <td>66.445087</td>\n",
       "      <td>3</td>\n",
       "    </tr>\n",
       "    <tr>\n",
       "      <th>980</th>\n",
       "      <td>E02000980</td>\n",
       "      <td>378.380</td>\n",
       "      <td>0.008235</td>\n",
       "      <td>42.144928</td>\n",
       "      <td>1</td>\n",
       "    </tr>\n",
       "    <tr>\n",
       "      <th>981</th>\n",
       "      <td>E02000981</td>\n",
       "      <td>374.350</td>\n",
       "      <td>0.007472</td>\n",
       "      <td>64.736842</td>\n",
       "      <td>3</td>\n",
       "    </tr>\n",
       "    <tr>\n",
       "      <th>982</th>\n",
       "      <td>E02000982</td>\n",
       "      <td>379.190</td>\n",
       "      <td>0.008910</td>\n",
       "      <td>26.758065</td>\n",
       "      <td>1</td>\n",
       "    </tr>\n",
       "  </tbody>\n",
       "</table>\n",
       "<p>983 rows × 5 columns</p>\n",
       "</div>"
      ],
      "text/plain": [
       "            id    price  crime rate       pati  group\n",
       "0    E02000001  498.250    0.034836  11.767474      0\n",
       "1    E02000002  337.500    0.011596   3.675595      5\n",
       "2    E02000003  319.375    0.009579   3.675595      5\n",
       "3    E02000004  331.250    0.014535   3.600575      5\n",
       "4    E02000005  337.500    0.008547   8.159091      2\n",
       "..         ...      ...         ...        ...    ...\n",
       "978  E02000978  370.520    0.007915  27.150418      1\n",
       "979  E02000979  370.980    0.008307  66.445087      3\n",
       "980  E02000980  378.380    0.008235  42.144928      1\n",
       "981  E02000981  374.350    0.007472  64.736842      3\n",
       "982  E02000982  379.190    0.008910  26.758065      1\n",
       "\n",
       "[983 rows x 5 columns]"
      ]
     },
     "execution_count": 2,
     "metadata": {},
     "output_type": "execute_result"
    }
   ],
   "source": [
    "data = pd.read_csv('demo_full.csv')\n",
    "data"
   ]
  },
  {
   "cell_type": "code",
   "execution_count": 3,
   "metadata": {},
   "outputs": [],
   "source": [
    "def means (_sum, number):\n",
    "    return _sum/number"
   ]
  },
  {
   "cell_type": "code",
   "execution_count": 4,
   "metadata": {},
   "outputs": [],
   "source": [
    "group = 0\n",
    "mean_price = []\n",
    "mean_crime = []\n",
    "mean_pati = []"
   ]
  },
  {
   "cell_type": "code",
   "execution_count": 6,
   "metadata": {},
   "outputs": [],
   "source": [
    "while group <= 5:\n",
    "    sum_price = 0\n",
    "    sum_crime = 0\n",
    "    sum_pati = 0\n",
    "    temp = 0\n",
    "    count = 0\n",
    "    while temp <=982:\n",
    "        if data.iloc[temp,4] == group:\n",
    "            sum_price+=data.iloc[temp,1]\n",
    "            sum_crime+=data.iloc[temp,2]\n",
    "            sum_pati+=data.iloc[temp,3]\n",
    "            count += 1\n",
    "        temp += 1\n",
    "    mean_price.append(means(sum_price,count))\n",
    "    mean_crime.append(means(sum_crime,count))\n",
    "    mean_pati.append(means(sum_pati,count))\n",
    "    group+=1"
   ]
  },
  {
   "cell_type": "code",
   "execution_count": 7,
   "metadata": {},
   "outputs": [
    {
     "name": "stdout",
     "output_type": "stream",
     "text": [
      "[363.4844871794873, 355.15825, 374.6378326996198, 360.3971428571428, 340.6839743589744, 421.77099609375]\n",
      "[0.016144820347985343, 0.01261283951666667, 0.013794186817490497, 0.010644678214285714, 0.014973362521367526, 0.013240469015624996]\n",
      "[12.732805797216106, 32.21682351666668, 8.703304892448669, 61.91512864285715, 21.11343546153848, 4.1938702695312475]\n"
     ]
    }
   ],
   "source": [
    "print(mean_price)\n",
    "print(mean_crime)\n",
    "print(mean_pati)"
   ]
  },
  {
   "cell_type": "code",
   "execution_count": 22,
   "metadata": {},
   "outputs": [
    {
     "data": {
      "text/plain": [
       "Text(0.5, 1.0, 'Average rent price')"
      ]
     },
     "execution_count": 22,
     "metadata": {},
     "output_type": "execute_result"
    },
    {
     "data": {
      "image/png": "[encoded data removed]",
      "text/plain": [
       "<Figure size 432x288 with 1 Axes>"
      ]
     },
     "metadata": {
      "needs_background": "light"
     },
     "output_type": "display_data"
    }
   ],
   "source": [
    "x=[0,1,2,3,4,5]\n",
    "y= mean_price\n",
    "plt.bar(x, y,alpha=0.65)\n",
    "plt.ylim(300)\n",
    "plt.title(\"Average rent price\")"
   ]
  },
  {
   "cell_type": "code",
   "execution_count": 23,
   "metadata": {},
   "outputs": [
    {
     "data": {
      "text/plain": [
       "Text(0.5, 1.0, 'Average crime rate')"
      ]
     },
     "execution_count": 23,
     "metadata": {},
     "output_type": "execute_result"
    },
    {
     "data": {
      "image/png": "[encoded data removed]",
      "text/plain": [
       "<Figure size 432x288 with 1 Axes>"
      ]
     },
     "metadata": {
      "needs_background": "light"
     },
     "output_type": "display_data"
    }
   ],
   "source": [
    "x=[0,1,2,3,4,5]\n",
    "y= mean_crime\n",
    "plt.bar(x, y,alpha=0.65)\n",
    "plt.ylim(0.01)\n",
    "plt.title(\"Average crime rate\")"
   ]
  },
  {
   "cell_type": "code",
   "execution_count": 25,
   "metadata": {},
   "outputs": [
    {
     "data": {
      "text/plain": [
       "Text(0.5, 1.0, 'Average ptai')"
      ]
     },
     "execution_count": 25,
     "metadata": {},
     "output_type": "execute_result"
    },
    {
     "data": {
      "image/png": "[encoded data removed]",
      "text/plain": [
       "<Figure size 432x288 with 1 Axes>"
      ]
     },
     "metadata": {
      "needs_background": "light"
     },
     "output_type": "display_data"
    }
   ],
   "source": [
    "x=[0,1,2,3,4,5]\n",
    "y= mean_pati\n",
    "plt.bar(x, y,alpha=0.65)\n",
    "plt.title(\"Average ptai\")"
   ]
  },
  {
   "cell_type": "code",
   "execution_count": null,
   "metadata": {},
   "outputs": [],
   "source": []
  },
  {
   "cell_type": "code",
   "execution_count": null,
   "metadata": {},
   "outputs": [],
   "source": []
  }
 ],
 "metadata": {
  "kernelspec": {
   "display_name": "Python 3",
   "language": "python",
   "name": "python3"
  },
  "language_info": {
   "codemirror_mode": {
    "name": "ipython",
    "version": 3
   },
   "file_extension": ".py",
   "mimetype": "text/x-python",
   "name": "python",
   "nbconvert_exporter": "python",
   "pygments_lexer": "ipython3",
   "version": "3.7.8"
  }
 },
 "nbformat": 4,
 "nbformat_minor": 4
}
